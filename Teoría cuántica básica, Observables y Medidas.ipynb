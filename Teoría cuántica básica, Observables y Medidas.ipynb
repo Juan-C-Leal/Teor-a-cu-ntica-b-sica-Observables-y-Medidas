{
 "cells": [
  {
   "cell_type": "markdown",
   "id": "1b9eb707-7c83-4f97-ba13-0231912c8306",
   "metadata": {},
   "source": [
    "# Tarea: Teoría cuántica básica, Observables y Medidas"
   ]
  },
  {
   "cell_type": "markdown",
   "id": "380d0d61-9d8f-4412-99e0-c46a7dd4c98c",
   "metadata": {},
   "source": [
    "## Ejercicio 1:\n",
    "El sistema consiste en una partícula confinada a un conjunto discreto de posiciones en una línea. El simulador debe permitir especificar el número de posiciones y un vector ket de estado asignando las amplitudes.\n",
    "\n",
    "1. El sistema debe calcular la probabilidad de encontrarlo en una posición en particular.\n",
    "\n",
    "2. El sistema si se le da otro vector Ket debe buscar la probabilidad de transitar del primer vector al segundo."
   ]
  },
  {
   "cell_type": "code",
   "execution_count": null,
   "id": "2c2cf6f7",
   "metadata": {},
   "outputs": [],
   "source": [
    "#Excersie 1\n",
    "\n",
    "import numpy as np\n",
    "\n",
    "# Vectores Ket\n",
    "#ket = np.array([1+0j, 0+0j, 1+0j, 0+0j, 0+0j])\n",
    "ket = np.array([1/np.sqrt(2), 1/np.sqrt(2)])\n",
    "ket2 = np.array([1/np.sqrt(3), np.sqrt(2)/np.sqrt(3)]) \n",
    "#ket2 = np.array([0+0j, 1+0j, 0+0j, 1+0j, 0+0j]) \n",
    "\n",
    "posicion = 0 #Para el otro vector puede ser 2\n",
    "\n",
    "def normalizar(ket):\n",
    "    norma = np.linalg.norm(ket)\n",
    "    if norma == 0:\n",
    "        raise ValueError(\"El vector ket no puede ser cero.\")\n",
    "    return ket / norma\n",
    "\n",
    "def probabilidadPosicion(ket, posicion):\n",
    "    normal = normalizar(ket)\n",
    "    var = normal[posicion]\n",
    "    return np.abs(var)**2\n",
    "\n",
    "\n",
    "def probabilidadTransicion(ket1, ket2):\n",
    "    ket_normal1 = normalizar(ket1)\n",
    "    ket_normal2 = normalizar(ket2)\n",
    "    probKet = np.dot(np.conjugate(ket_normal1), ket_normal2)\n",
    "    return np.abs(probKet)**2\n",
    "\n",
    "print(f\"Probabilidad en la posición {posicion}: {probabilidadPosicion(ket, posicion)}\")\n",
    "print(f\"Probabilidad de transitar de ket1 a ket2: {probabilidadTransicion(ket, ket2)}\")"
   ]
  },
  {
   "cell_type": "markdown",
   "id": "22908e20-9e48-474b-97fa-77c83ae951ca",
   "metadata": {},
   "source": [
    "# Complete los retos de programación del capítulo 4.\n",
    "\n",
    "## Ejercicio 1\n",
    "\n",
    "Amplitud de transición. El sistema puede recibir dos vectores y calcular la probabilidad de transitar de el uno al otro después de hacer la observación"
   ]
  },
  {
   "cell_type": "code",
   "execution_count": null,
   "id": "88d63875",
   "metadata": {},
   "outputs": [],
   "source": [
    "#Exercise 1\n",
    "\n",
    "import numpy as np\n",
    "\n",
    "def normalizar(vec):\n",
    "    norma = np.linalg.norm(vec)\n",
    "    if norma == 0:\n",
    "        raise ValueError(\"El vector ket no puede ser cero.\")\n",
    "    return ket / norma\n",
    "\n",
    "def amplitudTransicion(a, b):\n",
    "    vec1_normal = normalizar(a)\n",
    "    vec2_normal = normalizar(b)\n",
    "    return np.dot(np.conjugate(vec1_normal), vec2_normal)\n",
    "\n",
    "def probabilidadTrans(a, b):\n",
    "    ampli = amplitudTransicion(a, b)\n",
    "    return np.abs(ampli)**2\n",
    "\n",
    "#ket1 = np.array([1+0j, 0+0j, 1+0j]) Otro ejemplo\n",
    "#ket2 = np.array([0+0j, 1+0j, 0+0j]) Otro ejemplo\n",
    "vector_1 = np.array([1/np.sqrt(2), 1/np.sqrt(2)])\n",
    "vector_2 = np.array([1/np.sqrt(3), np.sqrt(2)/np.sqrt(3)])  \n",
    "print(f\"Amplitud de transición de ket1 a ket2: {amplitudTransicion(vector_1, vector_2)}\")\n",
    "print(f\"Probabilidad de transición: {probabilidadTrans(vector_1, vector_2)}\")"
   ]
  },
  {
   "cell_type": "markdown",
   "id": "7bad81d1",
   "metadata": {},
   "source": [
    "## Ejercicio 2\n",
    "\n",
    "Ahora con una matriz que describa un observable y un vector ket, el sistema revisa que la matriz sea hermitiana, y si lo es, calcula la media y la varianza del observable en el estado dado."
   ]
  },
  {
   "cell_type": "code",
   "execution_count": 34,
   "id": "20ee567e",
   "metadata": {},
   "outputs": [
    {
     "name": "stdout",
     "output_type": "stream",
     "text": [
      "Media y varianza: (np.complex128(2.0000000000000004+0j), np.complex128(5+0j))\n"
     ]
    }
   ],
   "source": [
    "#Exercise 2\n",
    "import numpy as np\n",
    "\n",
    "def normalizar(vec):\n",
    "    norma = np.linalg.norm(vec)\n",
    "    if norma == 0:\n",
    "        raise ValueError(\"El vector ket no puede ser cero.\")\n",
    "    return ket / norma\n",
    "\n",
    "def es_hermitiana(matriz):\n",
    "    return np.allclose(matriz, np.conjugate(matriz.T))\n",
    "\n",
    "def media_y_varianza(observable, ket):\n",
    "    if not es_hermitiana(observable):\n",
    "        return \"La matriz no es hermitiana.\"\n",
    "    \n",
    "    ket_normal = normalizar(ket)\n",
    "    media = np.vdot(ket_normal, np.dot(observable, ket_normal))\n",
    "    varianza = np.vdot(ket_normal, np.dot(observable @ observable, ket_normal)) - media**2\n",
    "\n",
    "    return media, varianza\n",
    "\n",
    "ket = np.array([1/np.sqrt(2), 1/np.sqrt(2)])\n",
    "# Matriz observable hermitiana\n",
    "observable = np.array([[1, 2j], [-2j, 3]])\n",
    "\n",
    "print(f\"Media y varianza: {media_y_varianza(observable, ket)}\")"
   ]
  },
  {
   "cell_type": "markdown",
   "id": "6ba5e85d-74f5-4ea7-868a-20c99b5f02c5",
   "metadata": {},
   "source": [
    "## Ejercicio 3\n",
    "\n",
    "El sistema calcula los valores propios del observable y la probabilidad de que el sistema transite a alguno de los vectores propios después de la observación.\n",
    "\n",
    "\n"
   ]
  },
  {
   "cell_type": "code",
   "execution_count": 17,
   "id": "ff00f46c",
   "metadata": {},
   "outputs": [
    {
     "name": "stdout",
     "output_type": "stream",
     "text": [
      "Valores propios: [-0.23606798  4.23606798]\n",
      "Probabilidades de transición: [np.float64(0.4999999999999998), np.float64(0.4999999999999998)]\n"
     ]
    }
   ],
   "source": [
    "#Exercise 3\n",
    "import numpy as np\n",
    "\n",
    "def valores_y_probabilidades(observable, ket):\n",
    "    # Valores propios y autovectores\n",
    "    valores_propios, autovectores = np.linalg.eigh(observable)\n",
    "    \n",
    "    # Probabilidad de transitar a cada autovector\n",
    "    probability = [np.abs(np.dot(np.conjugate(ket), autovector))**2 for autovector in autovectores.T]\n",
    "    \n",
    "    return valores_propios, probability\n",
    "\n",
    "ket = np.array([1/np.sqrt(2), 1/np.sqrt(2)])\n",
    "observable = np.array([[1, 2j], [-2j, 3]])\n",
    "valoresPropios, probabilidades = valores_y_probabilidades(observable, ket)\n",
    "print(f\"Valores propios: {valoresPropios}\")\n",
    "print(f\"Probabilidades de transición: {probabilidades}\")"
   ]
  },
  {
   "cell_type": "markdown",
   "id": "8c52f8b8",
   "metadata": {},
   "source": [
    "## Ejercicio 4\n",
    "\n",
    "Se considera la dinámica del sistema. Ahora con una serie de matrices Un el sistema calcula el estado final a partir de un estado inicial.\n"
   ]
  },
  {
   "cell_type": "code",
   "execution_count": 36,
   "id": "e63303cf",
   "metadata": {},
   "outputs": [
    {
     "name": "stdout",
     "output_type": "stream",
     "text": [
      "Estado final: [0 1]\n"
     ]
    }
   ],
   "source": [
    "#Exercise 4\n",
    "import numpy as np\n",
    "\n",
    "def evolucion_sistema(matrices_U, ket_inicial):\n",
    "    ket_final = ket_inicial\n",
    "    for U in matrices_U:\n",
    "        ket_final = np.dot(U, ket_final)\n",
    "    return ket_final\n",
    "\n",
    "U1 = np.array([[0, 1], [1, 0]])  # Matriz de evolución \n",
    "U2 = np.array([[1, 0], [0, 1]])  # Matriz identidad\n",
    "\n",
    "matrices_U = [U1, U2]\n",
    "estado_inicial = np.array([1, 0])  # Estado inicial\n",
    "\n",
    "estado_final = evolucion_sistema(matrices_U, estado_inicial)\n",
    "print(f\"Estado final: {estado_final}\")"
   ]
  },
  {
   "cell_type": "markdown",
   "id": "aeb05bee",
   "metadata": {},
   "source": [
    "# Ejercicios del libro\n",
    "\n",
    "## Ejercicio 4.3.1\n",
    "Find all the possible states the system described in Exercise 4.2.2 can transition into after a measurement has been carried out.\n"
   ]
  },
  {
   "cell_type": "code",
   "execution_count": 41,
   "id": "83da2791",
   "metadata": {},
   "outputs": [
    {
     "name": "stdout",
     "output_type": "stream",
     "text": [
      "Estado luego de Sx: [0.+0.j 1.+0.j]\n",
      "Probabilidad de continuar en spin_up: 0.0\n",
      "Probabilidad de cambiar a spin_down: 1.0\n"
     ]
    }
   ],
   "source": [
    "import numpy as np\n",
    "\n",
    "Sx = 0.5 * np.array([[0, 1], [1, 0]], dtype=complex)\n",
    "\n",
    "spinArriba = np.array([1, 0], dtype=complex)\n",
    "\n",
    "nuevoEstado = np.dot(Sx, spinArriba)\n",
    "nuevoEstado_normal = nuevoEstado / np.linalg.norm(nuevoEstado)\n",
    "\n",
    "probabilidadArriba = np.abs(np.vdot(spinArriba, nuevoEstado_normal))**2\n",
    "\n",
    "spinAbajo = np.array([0, 1], dtype=complex)\n",
    "probabiidadAbajo = np.abs(np.vdot(spinAbajo, nuevoEstado_normal))**2\n",
    "\n",
    "print(f\"Estado luego de Sx: {nuevoEstado_normal}\")\n",
    "print(f\"Probabilidad de continuar en spin_up: {probabilidadArriba}\")\n",
    "print(f\"Probabilidad de cambiar a spin_down: {probabiidadAbajo}\")"
   ]
  },
  {
   "cell_type": "markdown",
   "id": "e24542a5",
   "metadata": {},
   "source": [
    "## Ejercicio 4.3.2\n",
    "Perform the same calculations as in the last example, using Exer- cise 4.3.1. Then draw the probability distribution of the eigenvalues as in the previ- ous example."
   ]
  },
  {
   "cell_type": "code",
   "execution_count": 43,
   "id": "cb93b707",
   "metadata": {},
   "outputs": [
    {
     "name": "stdout",
     "output_type": "stream",
     "text": [
      "Valor propio 1: -0.3090169943749474, Probabilidad: 0.7236067977499788\n",
      "Valor propio 2: 0.8090169943749475, Probabilidad: 0.2763932022500209\n"
     ]
    },
    {
     "data": {
      "image/png": "[encoded data removed]",
      "text/plain": [
       "<Figure size 640x480 with 1 Axes>"
      ]
     },
     "metadata": {},
     "output_type": "display_data"
    }
   ],
   "source": [
    "import numpy as np\n",
    "import matplotlib.pyplot as plt\n",
    "\n",
    "Sx = 0.5 * np.array([[0, 1], [1, 1]], dtype=complex)\n",
    "spinArriba = np.array([1, 0], dtype=complex)\n",
    "\n",
    "\n",
    "eigenvalues, eigenvectors = np.linalg.eigh(Sx)\n",
    "spinArriba_normal = spinArriba / np.linalg.norm(spinArriba)\n",
    "\n",
    "probabilidades = [np.abs(np.vdot(eigenvector, spinArriba_normal))**2 for eigenvector in eigenvectors.T]\n",
    "\n",
    "for i, (eigenvalue, probability) in enumerate(zip(eigenvalues, probabilidades)):\n",
    "    print(f\"Valor propio {i+1}: {eigenvalue}, Probabilidad: {probability}\")\n",
    "\n",
    "plt.bar(eigenvalues, probabilidades)\n",
    "plt.xlabel('Valores propios de Sx')\n",
    "plt.ylabel('Probabilidad')\n",
    "plt.title('Proabilidad de dstribución para los vectores propios')\n",
    "plt.show()"
   ]
  },
  {
   "cell_type": "markdown",
   "id": "30ee4987",
   "metadata": {},
   "source": [
    "## Ejercicio 4.4.1\n",
    "Verify that the given matrices are unitary matrices. Multiply them and verify that their product is also unitary."
   ]
  },
  {
   "cell_type": "code",
   "execution_count": 47,
   "id": "84df8a2b",
   "metadata": {},
   "outputs": [
    {
     "name": "stdout",
     "output_type": "stream",
     "text": [
      "U1 es unitaria?  False\n",
      "U2 es unitaria? False\n",
      "Producto de U1 y U2:\n",
      " [[ 5.65685425+0.j  0.        +0.j]\n",
      " [ 0.        +0.j -5.65685425+0.j]]\n",
      "Es el producto unitario? False\n"
     ]
    }
   ],
   "source": [
    "def es_Unitaria(matriz):\n",
    "    identidad = np.eye(matriz.shape[0])  #Crea la identidad\n",
    "    matriz_con_trans = np.conjugate(matriz.T)\n",
    "    product = np.dot(matriz_con_trans, matriz)\n",
    "\n",
    "    return np.allclose(product, identidad)\n",
    "\n",
    "def main():\n",
    "    U1 = np.array([[2, 2], [-2, 2]], dtype=complex)\n",
    "    U2 = np.array([[np.sqrt(2), np.sqrt(2)], [np.sqrt(2), -np.sqrt(2)]], dtype=complex)\n",
    "    #Ejemplo 2\n",
    "    #U1 = np.array([[0, 1], [1, 0]], dtype=complex)\n",
    "    #U2 = (1/np.sqrt(2)) * np.array([[1, 1], [1, -1]], dtype=complex)\n",
    "    \n",
    "    print(\"U1 es unitaria? \", es_Unitaria(U1))\n",
    "    print(\"U2 es unitaria?\", es_Unitaria(U2))\n",
    "    \n",
    "    producto = np.dot(U1, U2)\n",
    "    \n",
    "    # Check if their product is unitary\n",
    "    print(\"Producto de U1 y U2:\\n\", producto)\n",
    "    print(\"Es el producto unitario?\", es_Unitaria(producto))\n",
    "main ()"
   ]
  },
  {
   "cell_type": "markdown",
   "id": "724eb027",
   "metadata": {},
   "source": [
    "## Ejercicio 4.4.2\n",
    "Go back to Example 3.3.2 (quantum billiard ball), keep the same initial state vector [1, 0, 0, 0]T , but change the unitary map to\n",
    "Determine the state of the system after three time steps. What is the chance of the quantum ball to be found at point 3?"
   ]
  },
  {
   "cell_type": "code",
   "execution_count": 50,
   "id": "0b73ed76",
   "metadata": {},
   "outputs": [
    {
     "name": "stdout",
     "output_type": "stream",
     "text": [
      "Estado del sistema después de tres pasos:\n",
      "[ 0.        +0.j         -0.70710678+0.70710678j  0.35355339+0.35355339j\n",
      "  0.        +0.j        ]\n",
      "Probabilidad de encontrar la bola cuántica en la posición 3: 0.2499999999999999\n"
     ]
    }
   ],
   "source": [
    "import numpy as np\n",
    "\n",
    "U = np.array([[0, 1/np.sqrt(2), 1/np.sqrt(2), 0],\n",
    "              [1j/np.sqrt(2), 0, 0, 1/np.sqrt(2)],\n",
    "              [1/np.sqrt(2), 0, 0, 0],\n",
    "              [0, 1/np.sqrt(2), -1/np.sqrt(2), 0]], dtype=complex)\n",
    "\n",
    "estado = np.array([1, 0, 0, 0], dtype=complex)\n",
    "\n",
    "for _ in range(3):\n",
    "    estado = np.dot(U, estado)\n",
    "\n",
    "print(\"Estado del sistema después de tres pasos:\")\n",
    "print(estado)\n",
    "\n",
    "probabilidadBola_punto3 = np.abs(estado[2])**2\n",
    "print(f\"Probabilidad de encontrar la bola cuántica en la posición 3: {probabilidadBola_punto3}\")"
   ]
  }
 ],
 "metadata": {
  "kernelspec": {
   "display_name": ".venv",
   "language": "python",
   "name": "python3"
  },
  "language_info": {
   "codemirror_mode": {
    "name": "ipython",
    "version": 3
   },
   "file_extension": ".py",
   "mimetype": "text/x-python",
   "name": "python",
   "nbconvert_exporter": "python",
   "pygments_lexer": "ipython3",
   "version": "3.9.6"
  }
 },
 "nbformat": 4,
 "nbformat_minor": 5
}
